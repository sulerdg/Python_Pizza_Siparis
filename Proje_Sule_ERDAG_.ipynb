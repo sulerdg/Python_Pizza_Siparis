{
  "nbformat": 4,
  "nbformat_minor": 0,
  "metadata": {
    "colab": {
      "provenance": []
    },
    "kernelspec": {
      "name": "python3",
      "display_name": "Python 3"
    },
    "language_info": {
      "name": "python"
    }
  },
  "cells": [
    {
      "cell_type": "code",
      "execution_count": null,
      "metadata": {
        "id": "ZrMvLumyu2ee",
        "outputId": "7af8f817-1175-47b0-a4eb-b571e949c4de",
        "colab": {
          "base_uri": "https://localhost:8080/"
        }
      },
      "outputs": [
        {
          "metadata": {
            "tags": null
          },
          "name": "stdout",
          "output_type": "stream",
          "text": [
            "Merhaba PyPizza'ya Hoşgeldiniz..\n"
          ]
        }
      ],
      "source": [
        "from os import close\n",
        "print(\"Merhaba PyPizza'ya Hoşgeldiniz..\")\n",
        " \n",
        "pizza_boyut = input('Lütfen Hangi Boyutta Pizza İstediğinizi Seciniz : \"S\", \"M\" veya \"L\"... Seçiminiz : ')\n",
        "ekstra_malzeme = input('Fazladan Malzeme İstiyor Musunuz? \"Evet\" veya \"Hayır\"... Seçiminiz : ')\n",
        "malzeme_secin = input ('Hangi Malzemelerden İstediğinizi Menüden Seçiniz : ')\n",
        "icecek = input ('İçecek Alıyor Musunuz? \"Evet\" veya \"Hayır\"... Seçiminiz : ')\n",
        "\n",
        "\n",
        "from datetime import datetime\n",
        "\n",
        "questions = [\n",
        "    {     \n",
        "        'choices': [ \n",
        "             {\n",
        "                'number_1': 'Klasik'\n",
        "             },\n",
        "             {\n",
        "                'number_2': 'Margarita'\n",
        "            },\n",
        "             {\n",
        "                'number_3': 'TürkPizza '\n",
        "            },\n",
        "             {\n",
        "                'number_4': 'Sade Pizza '\n",
        "            },\n",
        "           \n",
        "            {\n",
        "                'number_5': 'Zeytin '\n",
        "            },\n",
        "            {\n",
        "                'number_6': 'Mantarlar '\n",
        "            },\n",
        "            {\n",
        "                'number_7': ' Keçi Peyniri '\n",
        "            },\n",
        "          \n",
        "            {\n",
        "                'number_8': 'Et ',\n",
        "            },\n",
        "            {\n",
        "                'number_9': 'Soğan '\n",
        "            },\n",
        "            {\n",
        "                'number_10': 'Mısır'\n",
        "            },\n",
        " ]        \n",
        "    }\n",
        "]\n",
        "\n",
        "\n",
        "hesap = 0 \n",
        " \n",
        "if pizza_boyut == \"S\":\n",
        "  hesap += 25\n",
        "elif pizza_boyut == \"M\":\n",
        "  hesap += 30\n",
        "else:\n",
        "  hesap += 45\n",
        " \n",
        "if ekstra_malzeme == \"Evet\":\n",
        "  if pizza_boyut == \"S\":\n",
        "    hesap += 3\n",
        "  else:\n",
        "    hesap += 5\n",
        "\n",
        "if icecek == \"Evet\":\n",
        "  hesap += 7\n",
        "  \n",
        "print(f\"Toplam tutar : {hesap} TL.\")"
      ]
    }
  ]
}